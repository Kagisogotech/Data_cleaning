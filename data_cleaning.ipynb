{
 "cells": [
  {
   "cell_type": "code",
   "execution_count": 1,
   "id": "dfe95ce0",
   "metadata": {},
   "outputs": [
    {
     "name": "stdout",
     "output_type": "stream",
     "text": [
      "Loaded rows: 100\n"
     ]
    },
    {
     "data": {
      "text/html": [
       "<div>\n",
       "<style scoped>\n",
       "    .dataframe tbody tr th:only-of-type {\n",
       "        vertical-align: middle;\n",
       "    }\n",
       "\n",
       "    .dataframe tbody tr th {\n",
       "        vertical-align: top;\n",
       "    }\n",
       "\n",
       "    .dataframe thead th {\n",
       "        text-align: right;\n",
       "    }\n",
       "</style>\n",
       "<table border=\"1\" class=\"dataframe\">\n",
       "  <thead>\n",
       "    <tr style=\"text-align: right;\">\n",
       "      <th></th>\n",
       "      <th>Order_ID</th>\n",
       "      <th>Product</th>\n",
       "      <th>Region</th>\n",
       "      <th>Units_Sold</th>\n",
       "      <th>Unit_Price</th>\n",
       "      <th>Revenue</th>\n",
       "      <th>Sales_Rep</th>\n",
       "      <th>Order_Date</th>\n",
       "    </tr>\n",
       "  </thead>\n",
       "  <tbody>\n",
       "    <tr>\n",
       "      <th>0</th>\n",
       "      <td>ORD001</td>\n",
       "      <td>Printer</td>\n",
       "      <td>Limpopo</td>\n",
       "      <td>45</td>\n",
       "      <td>2985</td>\n",
       "      <td>134325</td>\n",
       "      <td>Rep-2</td>\n",
       "      <td>2024-03-28</td>\n",
       "    </tr>\n",
       "    <tr>\n",
       "      <th>1</th>\n",
       "      <td>ORD002</td>\n",
       "      <td>Headphones</td>\n",
       "      <td>Western Cape</td>\n",
       "      <td>16</td>\n",
       "      <td>15076</td>\n",
       "      <td>241216</td>\n",
       "      <td>Rep-18</td>\n",
       "      <td>2024-04-11</td>\n",
       "    </tr>\n",
       "    <tr>\n",
       "      <th>2</th>\n",
       "      <td>ORD003</td>\n",
       "      <td>Laptop</td>\n",
       "      <td>Western Cape</td>\n",
       "      <td>45</td>\n",
       "      <td>14860</td>\n",
       "      <td>668700</td>\n",
       "      <td>Rep-16</td>\n",
       "      <td>2024-05-18</td>\n",
       "    </tr>\n",
       "    <tr>\n",
       "      <th>3</th>\n",
       "      <td>ORD004</td>\n",
       "      <td>External Hard Drive</td>\n",
       "      <td>KwaZulu-Natal</td>\n",
       "      <td>21</td>\n",
       "      <td>16237</td>\n",
       "      <td>340977</td>\n",
       "      <td>Rep-3</td>\n",
       "      <td>2024-05-16</td>\n",
       "    </tr>\n",
       "    <tr>\n",
       "      <th>4</th>\n",
       "      <td>ORD005</td>\n",
       "      <td>Smartphone</td>\n",
       "      <td>Western Cape</td>\n",
       "      <td>41</td>\n",
       "      <td>9420</td>\n",
       "      <td>386220</td>\n",
       "      <td>Rep-17</td>\n",
       "      <td>2024-02-21</td>\n",
       "    </tr>\n",
       "  </tbody>\n",
       "</table>\n",
       "</div>"
      ],
      "text/plain": [
       "  Order_ID              Product         Region  Units_Sold  Unit_Price  \\\n",
       "0   ORD001              Printer        Limpopo          45        2985   \n",
       "1   ORD002           Headphones   Western Cape          16       15076   \n",
       "2   ORD003               Laptop   Western Cape          45       14860   \n",
       "3   ORD004  External Hard Drive  KwaZulu-Natal          21       16237   \n",
       "4   ORD005           Smartphone   Western Cape          41        9420   \n",
       "\n",
       "   Revenue Sales_Rep Order_Date  \n",
       "0   134325     Rep-2 2024-03-28  \n",
       "1   241216    Rep-18 2024-04-11  \n",
       "2   668700    Rep-16 2024-05-18  \n",
       "3   340977     Rep-3 2024-05-16  \n",
       "4   386220    Rep-17 2024-02-21  "
      ]
     },
     "execution_count": 1,
     "metadata": {},
     "output_type": "execute_result"
    }
   ],
   "source": [
    "#Loading the file first\n",
    "import pandas as pd\n",
    "from pathlib import Path\n",
    "\n",
    "# Set path to your file. If the file is in the notebook folder, this is fine:\n",
    "FILE = Path(\"Book1.xlsx\")\n",
    "\n",
    "# Load first sheet\n",
    "df = pd.read_excel(FILE, sheet_name='Week-2-Sales-Data')\n",
    "\n",
    "# Quick peek\n",
    "print(\"Loaded rows:\", len(df))\n",
    "df.head()\n"
   ]
  },
  {
   "cell_type": "code",
   "execution_count": 2,
   "id": "3bb0f0c4",
   "metadata": {},
   "outputs": [
    {
     "name": "stdout",
     "output_type": "stream",
     "text": [
      "Columns: ['Order_ID', 'Product', 'Region', 'Units_Sold', 'Unit_Price', 'Revenue', 'Sales_Rep', 'Order_Date']\n",
      "\n",
      "Shape (rows, cols): (100, 8)\n",
      "\n",
      "Data types:\n",
      "Order_ID              object\n",
      "Product               object\n",
      "Region                object\n",
      "Units_Sold             int64\n",
      "Unit_Price             int64\n",
      "Revenue                int64\n",
      "Sales_Rep             object\n",
      "Order_Date    datetime64[ns]\n",
      "dtype: object\n",
      "<class 'pandas.core.frame.DataFrame'>\n",
      "RangeIndex: 100 entries, 0 to 99\n",
      "Data columns (total 8 columns):\n",
      " #   Column      Non-Null Count  Dtype         \n",
      "---  ------      --------------  -----         \n",
      " 0   Order_ID    100 non-null    object        \n",
      " 1   Product     100 non-null    object        \n",
      " 2   Region      100 non-null    object        \n",
      " 3   Units_Sold  100 non-null    int64         \n",
      " 4   Unit_Price  100 non-null    int64         \n",
      " 5   Revenue     100 non-null    int64         \n",
      " 6   Sales_Rep   100 non-null    object        \n",
      " 7   Order_Date  100 non-null    datetime64[ns]\n",
      "dtypes: datetime64[ns](1), int64(3), object(4)\n",
      "memory usage: 6.4+ KB\n"
     ]
    },
    {
     "data": {
      "text/plain": [
       "None"
      ]
     },
     "metadata": {},
     "output_type": "display_data"
    },
    {
     "data": {
      "text/html": [
       "<div>\n",
       "<style scoped>\n",
       "    .dataframe tbody tr th:only-of-type {\n",
       "        vertical-align: middle;\n",
       "    }\n",
       "\n",
       "    .dataframe tbody tr th {\n",
       "        vertical-align: top;\n",
       "    }\n",
       "\n",
       "    .dataframe thead th {\n",
       "        text-align: right;\n",
       "    }\n",
       "</style>\n",
       "<table border=\"1\" class=\"dataframe\">\n",
       "  <thead>\n",
       "    <tr style=\"text-align: right;\">\n",
       "      <th></th>\n",
       "      <th>count</th>\n",
       "      <th>unique</th>\n",
       "      <th>top</th>\n",
       "      <th>freq</th>\n",
       "      <th>mean</th>\n",
       "      <th>min</th>\n",
       "      <th>25%</th>\n",
       "      <th>50%</th>\n",
       "      <th>75%</th>\n",
       "      <th>max</th>\n",
       "      <th>std</th>\n",
       "    </tr>\n",
       "  </thead>\n",
       "  <tbody>\n",
       "    <tr>\n",
       "      <th>Order_ID</th>\n",
       "      <td>100</td>\n",
       "      <td>100</td>\n",
       "      <td>ORD001</td>\n",
       "      <td>1</td>\n",
       "      <td>NaN</td>\n",
       "      <td>NaN</td>\n",
       "      <td>NaN</td>\n",
       "      <td>NaN</td>\n",
       "      <td>NaN</td>\n",
       "      <td>NaN</td>\n",
       "      <td>NaN</td>\n",
       "    </tr>\n",
       "    <tr>\n",
       "      <th>Product</th>\n",
       "      <td>100</td>\n",
       "      <td>7</td>\n",
       "      <td>Smartwatch</td>\n",
       "      <td>21</td>\n",
       "      <td>NaN</td>\n",
       "      <td>NaN</td>\n",
       "      <td>NaN</td>\n",
       "      <td>NaN</td>\n",
       "      <td>NaN</td>\n",
       "      <td>NaN</td>\n",
       "      <td>NaN</td>\n",
       "    </tr>\n",
       "    <tr>\n",
       "      <th>Region</th>\n",
       "      <td>100</td>\n",
       "      <td>7</td>\n",
       "      <td>Western Cape</td>\n",
       "      <td>24</td>\n",
       "      <td>NaN</td>\n",
       "      <td>NaN</td>\n",
       "      <td>NaN</td>\n",
       "      <td>NaN</td>\n",
       "      <td>NaN</td>\n",
       "      <td>NaN</td>\n",
       "      <td>NaN</td>\n",
       "    </tr>\n",
       "    <tr>\n",
       "      <th>Units_Sold</th>\n",
       "      <td>100.0</td>\n",
       "      <td>NaN</td>\n",
       "      <td>NaN</td>\n",
       "      <td>NaN</td>\n",
       "      <td>28.23</td>\n",
       "      <td>2.0</td>\n",
       "      <td>16.75</td>\n",
       "      <td>27.5</td>\n",
       "      <td>42.25</td>\n",
       "      <td>49.0</td>\n",
       "      <td>14.159877</td>\n",
       "    </tr>\n",
       "    <tr>\n",
       "      <th>Unit_Price</th>\n",
       "      <td>100.0</td>\n",
       "      <td>NaN</td>\n",
       "      <td>NaN</td>\n",
       "      <td>NaN</td>\n",
       "      <td>12616.57</td>\n",
       "      <td>927.0</td>\n",
       "      <td>6916.0</td>\n",
       "      <td>12380.5</td>\n",
       "      <td>17670.25</td>\n",
       "      <td>24995.0</td>\n",
       "      <td>6927.580312</td>\n",
       "    </tr>\n",
       "    <tr>\n",
       "      <th>Revenue</th>\n",
       "      <td>100.0</td>\n",
       "      <td>NaN</td>\n",
       "      <td>NaN</td>\n",
       "      <td>NaN</td>\n",
       "      <td>352953.38</td>\n",
       "      <td>7914.0</td>\n",
       "      <td>110355.0</td>\n",
       "      <td>324875.0</td>\n",
       "      <td>528600.0</td>\n",
       "      <td>1040204.0</td>\n",
       "      <td>263247.77183</td>\n",
       "    </tr>\n",
       "    <tr>\n",
       "      <th>Sales_Rep</th>\n",
       "      <td>100</td>\n",
       "      <td>20</td>\n",
       "      <td>Rep-1</td>\n",
       "      <td>8</td>\n",
       "      <td>NaN</td>\n",
       "      <td>NaN</td>\n",
       "      <td>NaN</td>\n",
       "      <td>NaN</td>\n",
       "      <td>NaN</td>\n",
       "      <td>NaN</td>\n",
       "      <td>NaN</td>\n",
       "    </tr>\n",
       "    <tr>\n",
       "      <th>Order_Date</th>\n",
       "      <td>100</td>\n",
       "      <td>NaN</td>\n",
       "      <td>NaN</td>\n",
       "      <td>NaN</td>\n",
       "      <td>2024-03-24 10:04:48</td>\n",
       "      <td>2024-01-01 00:00:00</td>\n",
       "      <td>2024-02-05 00:00:00</td>\n",
       "      <td>2024-03-27 12:00:00</td>\n",
       "      <td>2024-05-13 18:00:00</td>\n",
       "      <td>2024-06-29 00:00:00</td>\n",
       "      <td>NaN</td>\n",
       "    </tr>\n",
       "  </tbody>\n",
       "</table>\n",
       "</div>"
      ],
      "text/plain": [
       "            count unique           top freq                 mean  \\\n",
       "Order_ID      100    100        ORD001    1                  NaN   \n",
       "Product       100      7    Smartwatch   21                  NaN   \n",
       "Region        100      7  Western Cape   24                  NaN   \n",
       "Units_Sold  100.0    NaN           NaN  NaN                28.23   \n",
       "Unit_Price  100.0    NaN           NaN  NaN             12616.57   \n",
       "Revenue     100.0    NaN           NaN  NaN            352953.38   \n",
       "Sales_Rep     100     20         Rep-1    8                  NaN   \n",
       "Order_Date    100    NaN           NaN  NaN  2024-03-24 10:04:48   \n",
       "\n",
       "                            min                  25%                  50%  \\\n",
       "Order_ID                    NaN                  NaN                  NaN   \n",
       "Product                     NaN                  NaN                  NaN   \n",
       "Region                      NaN                  NaN                  NaN   \n",
       "Units_Sold                  2.0                16.75                 27.5   \n",
       "Unit_Price                927.0               6916.0              12380.5   \n",
       "Revenue                  7914.0             110355.0             324875.0   \n",
       "Sales_Rep                   NaN                  NaN                  NaN   \n",
       "Order_Date  2024-01-01 00:00:00  2024-02-05 00:00:00  2024-03-27 12:00:00   \n",
       "\n",
       "                            75%                  max           std  \n",
       "Order_ID                    NaN                  NaN           NaN  \n",
       "Product                     NaN                  NaN           NaN  \n",
       "Region                      NaN                  NaN           NaN  \n",
       "Units_Sold                42.25                 49.0     14.159877  \n",
       "Unit_Price             17670.25              24995.0   6927.580312  \n",
       "Revenue                528600.0            1040204.0  263247.77183  \n",
       "Sales_Rep                   NaN                  NaN           NaN  \n",
       "Order_Date  2024-05-13 18:00:00  2024-06-29 00:00:00           NaN  "
      ]
     },
     "metadata": {},
     "output_type": "display_data"
    }
   ],
   "source": [
    "# Basic info\n",
    "print(\"Columns:\", list(df.columns))\n",
    "print(\"\\nShape (rows, cols):\", df.shape)\n",
    "print(\"\\nData types:\")\n",
    "print(df.dtypes)\n",
    "\n",
    "# More details\n",
    "display(df.info())\n",
    "display(df.describe(include='all').T)\n"
   ]
  },
  {
   "cell_type": "code",
   "execution_count": 3,
   "id": "aaad0eb4",
   "metadata": {},
   "outputs": [
    {
     "name": "stdout",
     "output_type": "stream",
     "text": [
      "Missing values per column:\n",
      " Order_ID      0\n",
      "Product       0\n",
      "Region        0\n",
      "Units_Sold    0\n",
      "Unit_Price    0\n",
      "Revenue       0\n",
      "Sales_Rep     0\n",
      "Order_Date    0\n",
      "dtype: int64\n",
      "\n",
      "Total exact duplicate rows: 0\n",
      "Duplicate Order_ID count: 0\n"
     ]
    }
   ],
   "source": [
    "# Missing values per column\n",
    "missing = df.isnull().sum().sort_values(ascending=False)\n",
    "print(\"Missing values per column:\\n\", missing)\n",
    "\n",
    "# Duplicate rows\n",
    "total_dups = df.duplicated().sum()\n",
    "print(f\"\\nTotal exact duplicate rows: {total_dups}\")\n",
    "\n",
    "# If there's an Order_ID column, check duplicates by that id\n",
    "if 'Order_ID' in df.columns:\n",
    "    dup_order_ids = df.duplicated(subset=['Order_ID']).sum()\n",
    "    print(\"Duplicate Order_ID count:\", dup_order_ids)\n"
   ]
  },
  {
   "cell_type": "code",
   "execution_count": 4,
   "id": "f32940e4",
   "metadata": {},
   "outputs": [
    {
     "data": {
      "text/html": [
       "<div>\n",
       "<style scoped>\n",
       "    .dataframe tbody tr th:only-of-type {\n",
       "        vertical-align: middle;\n",
       "    }\n",
       "\n",
       "    .dataframe tbody tr th {\n",
       "        vertical-align: top;\n",
       "    }\n",
       "\n",
       "    .dataframe thead th {\n",
       "        text-align: right;\n",
       "    }\n",
       "</style>\n",
       "<table border=\"1\" class=\"dataframe\">\n",
       "  <thead>\n",
       "    <tr style=\"text-align: right;\">\n",
       "      <th></th>\n",
       "      <th>Order_ID</th>\n",
       "      <th>Product</th>\n",
       "      <th>Region</th>\n",
       "      <th>Sales_Rep</th>\n",
       "    </tr>\n",
       "  </thead>\n",
       "  <tbody>\n",
       "    <tr>\n",
       "      <th>0</th>\n",
       "      <td>ORD001</td>\n",
       "      <td>Printer</td>\n",
       "      <td>Limpopo</td>\n",
       "      <td>Rep-2</td>\n",
       "    </tr>\n",
       "    <tr>\n",
       "      <th>1</th>\n",
       "      <td>ORD002</td>\n",
       "      <td>Headphones</td>\n",
       "      <td>Western Cape</td>\n",
       "      <td>Rep-18</td>\n",
       "    </tr>\n",
       "    <tr>\n",
       "      <th>2</th>\n",
       "      <td>ORD003</td>\n",
       "      <td>Laptop</td>\n",
       "      <td>Western Cape</td>\n",
       "      <td>Rep-16</td>\n",
       "    </tr>\n",
       "    <tr>\n",
       "      <th>3</th>\n",
       "      <td>ORD004</td>\n",
       "      <td>External Hard Drive</td>\n",
       "      <td>Kwazulu-Natal</td>\n",
       "      <td>Rep-3</td>\n",
       "    </tr>\n",
       "    <tr>\n",
       "      <th>4</th>\n",
       "      <td>ORD005</td>\n",
       "      <td>Smartphone</td>\n",
       "      <td>Western Cape</td>\n",
       "      <td>Rep-17</td>\n",
       "    </tr>\n",
       "  </tbody>\n",
       "</table>\n",
       "</div>"
      ],
      "text/plain": [
       "  Order_ID              Product         Region Sales_Rep\n",
       "0   ORD001              Printer        Limpopo     Rep-2\n",
       "1   ORD002           Headphones   Western Cape    Rep-18\n",
       "2   ORD003               Laptop   Western Cape    Rep-16\n",
       "3   ORD004  External Hard Drive  Kwazulu-Natal     Rep-3\n",
       "4   ORD005           Smartphone   Western Cape    Rep-17"
      ]
     },
     "execution_count": 4,
     "metadata": {},
     "output_type": "execute_result"
    }
   ],
   "source": [
    "# Trim whitespace in object/string columns and standardize Region/Product casing\n",
    "obj_cols = df.select_dtypes(include=['object', 'string']).columns.tolist()\n",
    "for c in obj_cols:\n",
    "    # Leave NaN as NaN; apply .str.strip() only to strings\n",
    "    df[c] = df[c].where(df[c].isnull(), df[c].str.strip())\n",
    "\n",
    "# Optional normalizations (uncomment if you want them)\n",
    "if 'Region' in df.columns:\n",
    "    df['Region'] = df['Region'].where(df['Region'].isnull(), df['Region'].str.title())\n",
    "if 'Product' in df.columns:\n",
    "    df['Product'] = df['Product'].where(df['Product'].isnull(), df['Product'].str.title())\n",
    "\n",
    "# Quick check\n",
    "df[obj_cols].head()\n"
   ]
  },
  {
   "cell_type": "code",
   "execution_count": 5,
   "id": "7d39f2b3",
   "metadata": {},
   "outputs": [
    {
     "name": "stdout",
     "output_type": "stream",
     "text": [
      "Revenue - nulls after coercion: 0\n",
      "Units_Sold - nulls after coercion: 0\n",
      "Unit_Price - nulls after coercion: 0\n"
     ]
    }
   ],
   "source": [
    "numeric_candidates = ['Revenue', 'Units_Sold', 'Unit_Price']\n",
    "for col in numeric_candidates:\n",
    "    if col in df.columns:\n",
    "        df[col] = pd.to_numeric(df[col], errors='coerce')\n",
    "\n",
    "# Show how many NaNs appeared after coercion\n",
    "for col in numeric_candidates:\n",
    "    if col in df.columns:\n",
    "        print(f\"{col} - nulls after coercion:\", df[col].isnull().sum())\n"
   ]
  },
  {
   "cell_type": "code",
   "execution_count": 6,
   "id": "0c48f805",
   "metadata": {},
   "outputs": [
    {
     "name": "stdout",
     "output_type": "stream",
     "text": [
      "Revenue missing before: 0; after filling from units*price: 0\n"
     ]
    }
   ],
   "source": [
    "if set(['Revenue','Units_Sold','Unit_Price']).issubset(df.columns):\n",
    "    missing_before = df['Revenue'].isnull().sum()\n",
    "    mask = df['Revenue'].isnull() & df['Units_Sold'].notnull() & df['Unit_Price'].notnull()\n",
    "    df.loc[mask, 'Revenue'] = df.loc[mask, 'Units_Sold'] * df.loc[mask, 'Unit_Price']\n",
    "    missing_after = df['Revenue'].isnull().sum()\n",
    "    print(f\"Revenue missing before: {missing_before}; after filling from units*price: {missing_after}\")\n"
   ]
  },
  {
   "cell_type": "code",
   "execution_count": 7,
   "id": "b634ee12",
   "metadata": {},
   "outputs": [
    {
     "name": "stdout",
     "output_type": "stream",
     "text": [
      "Order_Date - nulls after conversion: 0\n"
     ]
    },
    {
     "data": {
      "text/html": [
       "<div>\n",
       "<style scoped>\n",
       "    .dataframe tbody tr th:only-of-type {\n",
       "        vertical-align: middle;\n",
       "    }\n",
       "\n",
       "    .dataframe tbody tr th {\n",
       "        vertical-align: top;\n",
       "    }\n",
       "\n",
       "    .dataframe thead th {\n",
       "        text-align: right;\n",
       "    }\n",
       "</style>\n",
       "<table border=\"1\" class=\"dataframe\">\n",
       "  <thead>\n",
       "    <tr style=\"text-align: right;\">\n",
       "      <th></th>\n",
       "      <th>Order_Date</th>\n",
       "    </tr>\n",
       "  </thead>\n",
       "  <tbody>\n",
       "    <tr>\n",
       "      <th>0</th>\n",
       "      <td>2024-03-28</td>\n",
       "    </tr>\n",
       "    <tr>\n",
       "      <th>1</th>\n",
       "      <td>2024-04-11</td>\n",
       "    </tr>\n",
       "    <tr>\n",
       "      <th>2</th>\n",
       "      <td>2024-05-18</td>\n",
       "    </tr>\n",
       "    <tr>\n",
       "      <th>3</th>\n",
       "      <td>2024-05-16</td>\n",
       "    </tr>\n",
       "    <tr>\n",
       "      <th>4</th>\n",
       "      <td>2024-02-21</td>\n",
       "    </tr>\n",
       "  </tbody>\n",
       "</table>\n",
       "</div>"
      ],
      "text/plain": [
       "  Order_Date\n",
       "0 2024-03-28\n",
       "1 2024-04-11\n",
       "2 2024-05-18\n",
       "3 2024-05-16\n",
       "4 2024-02-21"
      ]
     },
     "metadata": {},
     "output_type": "display_data"
    }
   ],
   "source": [
    "date_col = 'Order_Date'  # adjust if different\n",
    "if date_col in df.columns:\n",
    "    # If your dates are in day/month/year format set dayfirst=True\n",
    "    df[date_col] = pd.to_datetime(df[date_col], errors='coerce', dayfirst=False)\n",
    "    print(\"Order_Date - nulls after conversion:\", df[date_col].isnull().sum())\n",
    "    display(df[[date_col]].head())\n",
    "else:\n",
    "    print(\"No Order_Date column found.\")\n"
   ]
  },
  {
   "cell_type": "code",
   "execution_count": 8,
   "id": "be8ca690",
   "metadata": {},
   "outputs": [
    {
     "name": "stdout",
     "output_type": "stream",
     "text": [
      "Dropped 0 exact duplicate rows (exact match on all columns).\n",
      "After ensuring unique Order_IDs, rows dropped: 0\n"
     ]
    }
   ],
   "source": [
    "# Option A: drop exact duplicate rows\n",
    "before = len(df)\n",
    "df = df.drop_duplicates()\n",
    "after = len(df)\n",
    "print(f\"Dropped {before-after} exact duplicate rows (exact match on all columns).\")\n",
    "\n",
    "# Option B: if Order_ID exists and should be unique, drop by Order_ID keeping first appearance\n",
    "if 'Order_ID' in df.columns:\n",
    "    before = len(df)\n",
    "    df = df.drop_duplicates(subset=['Order_ID'], keep='first')\n",
    "    after = len(df)\n",
    "    print(f\"After ensuring unique Order_IDs, rows dropped: {before-after}\")\n"
   ]
  },
  {
   "cell_type": "code",
   "execution_count": 9,
   "id": "d92ff330",
   "metadata": {},
   "outputs": [
    {
     "name": "stdout",
     "output_type": "stream",
     "text": [
      "Nulls before handling:\n"
     ]
    },
    {
     "data": {
      "text/plain": [
       "Order_ID      0\n",
       "Product       0\n",
       "Region        0\n",
       "Units_Sold    0\n",
       "Unit_Price    0\n",
       "Revenue       0\n",
       "Sales_Rep     0\n",
       "Order_Date    0\n",
       "dtype: int64"
      ]
     },
     "metadata": {},
     "output_type": "display_data"
    },
    {
     "name": "stdout",
     "output_type": "stream",
     "text": [
      "\n",
      "Rows after dropping rows missing critical columns: 100\n",
      "\n",
      "Nulls after handling:\n"
     ]
    },
    {
     "data": {
      "text/plain": [
       "Order_ID      0\n",
       "Product       0\n",
       "Region        0\n",
       "Units_Sold    0\n",
       "Unit_Price    0\n",
       "Revenue       0\n",
       "Sales_Rep     0\n",
       "Order_Date    0\n",
       "dtype: int64"
      ]
     },
     "metadata": {},
     "output_type": "display_data"
    }
   ],
   "source": [
    "# Summary of nulls\n",
    "print(\"Nulls before handling:\")\n",
    "display(df.isnull().sum())\n",
    "\n",
    "# Strategy example:\n",
    "# - Drop rows missing Order_Date or Product because these are critical for analysis.\n",
    "critical_cols = []\n",
    "if 'Order_Date' in df.columns:\n",
    "    critical_cols.append('Order_Date')\n",
    "if 'Product' in df.columns:\n",
    "    critical_cols.append('Product')\n",
    "\n",
    "# Drop rows missing critical info\n",
    "df = df.dropna(subset=critical_cols)\n",
    "print(\"\\nRows after dropping rows missing critical columns:\", len(df))\n",
    "\n",
    "# Fill non-critical categorical with 'Unknown'\n",
    "if 'Region' in df.columns:\n",
    "    df['Region'] = df['Region'].fillna('Unknown')\n",
    "\n",
    "# Impute numeric columns sensibly\n",
    "if 'Units_Sold' in df.columns:\n",
    "    df['Units_Sold'] = df['Units_Sold'].fillna(0)            # if missing treat as 0 sold\n",
    "if 'Unit_Price' in df.columns and df['Unit_Price'].isnull().any():\n",
    "    df['Unit_Price'] = df['Unit_Price'].fillna(df['Unit_Price'].median())\n",
    "\n",
    "# Final check\n",
    "print(\"\\nNulls after handling:\")\n",
    "display(df.isnull().sum())\n"
   ]
  },
  {
   "cell_type": "code",
   "execution_count": 10,
   "id": "5cc084a6",
   "metadata": {},
   "outputs": [
    {
     "name": "stdout",
     "output_type": "stream",
     "text": [
      "Final dtypes:\n",
      "Order_ID              object\n",
      "Product               object\n",
      "Region                object\n",
      "Units_Sold             int64\n",
      "Unit_Price             int64\n",
      "Revenue                int64\n",
      "Sales_Rep             object\n",
      "Order_Date    datetime64[ns]\n",
      "dtype: object\n",
      "\n",
      "Region distribution:\n"
     ]
    },
    {
     "data": {
      "text/plain": [
       "Region\n",
       "Western Cape     24\n",
       "Gauteng          16\n",
       "North West       14\n",
       "Eastern Cape     14\n",
       "Limpopo          11\n",
       "Free State       11\n",
       "Kwazulu-Natal    10\n",
       "Name: count, dtype: int64"
      ]
     },
     "metadata": {},
     "output_type": "display_data"
    },
    {
     "name": "stdout",
     "output_type": "stream",
     "text": [
      "\n",
      "Top products by record count:\n"
     ]
    },
    {
     "data": {
      "text/plain": [
       "Product\n",
       "Smartwatch             21\n",
       "Tablet                 16\n",
       "Printer                15\n",
       "Smartphone             15\n",
       "Laptop                 13\n",
       "Headphones             11\n",
       "External Hard Drive     9\n",
       "Name: count, dtype: int64"
      ]
     },
     "metadata": {},
     "output_type": "display_data"
    }
   ],
   "source": [
    "print(\"Final dtypes:\")\n",
    "print(df.dtypes)\n",
    "\n",
    "# Example: add YearMonth column for reporting\n",
    "if 'Order_Date' in df.columns:\n",
    "    df['YearMonth'] = df['Order_Date'].dt.to_period('M').astype(str)\n",
    "\n",
    "# Quick value counts to inspect categories\n",
    "if 'Region' in df.columns:\n",
    "    print(\"\\nRegion distribution:\")\n",
    "    display(df['Region'].value_counts().head(20))\n",
    "if 'Product' in df.columns:\n",
    "    print(\"\\nTop products by record count:\")\n",
    "    display(df['Product'].value_counts().head(20))\n"
   ]
  },
  {
   "cell_type": "code",
   "execution_count": 11,
   "id": "8c98a5c8",
   "metadata": {},
   "outputs": [
    {
     "name": "stdout",
     "output_type": "stream",
     "text": [
      "Saved cleaned dataset to C:\\Users\\CAPACITI-JHB\\Documents\\Book1\\Book1_cleaned.xlsx\n"
     ]
    }
   ],
   "source": [
    "OUT = Path(\"Book1_cleaned.xlsx\")\n",
    "df.to_excel(OUT, index=False)\n",
    "print(\"Saved cleaned dataset to\", OUT.resolve())\n"
   ]
  }
 ],
 "metadata": {
  "kernelspec": {
   "display_name": "Python 3",
   "language": "python",
   "name": "python3"
  },
  "language_info": {
   "codemirror_mode": {
    "name": "ipython",
    "version": 3
   },
   "file_extension": ".py",
   "mimetype": "text/x-python",
   "name": "python",
   "nbconvert_exporter": "python",
   "pygments_lexer": "ipython3",
   "version": "3.13.2"
  }
 },
 "nbformat": 4,
 "nbformat_minor": 5
}
